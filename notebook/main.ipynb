{
 "cells": [
  {
   "cell_type": "markdown",
   "metadata": {},
   "source": [
    "# HNRE"
   ]
  },
  {
   "cell_type": "markdown",
   "metadata": {},
   "source": [
    "## 0. 预备"
   ]
  },
  {
   "cell_type": "code",
   "execution_count": 29,
   "metadata": {
    "collapsed": false,
    "jupyter": {
     "outputs_hidden": false
    },
    "pycharm": {
     "name": "#%%\n"
    }
   },
   "outputs": [],
   "source": [
    "import datetime\n",
    "import json\n",
    "import os\n",
    "import pickle\n",
    "import sys\n",
    "import time\n",
    "import torch\n",
    "import math\n",
    "\n",
    "WORK_HOME=\"D:\\PycharmProjects\\HNRE-Pytorch\"\n",
    "os.chdir(WORK_HOME)\n",
    "sys.path.append(\"./\")\n",
    "sys.path.append(\"./plot\")\n",
    "\n",
    "\n",
    "from IPython.core.debugger import set_trace\n",
    "from tqdm import tqdm_notebook as tqdm\n",
    "\n",
    "import numpy as np\n",
    "import pandas as pd\n",
    "from sklearn.metrics import average_precision_score\n",
    "import dgl\n",
    "import torch\n",
    "import torch.nn as nn\n",
    "import torch.nn.functional as F\n",
    "import itertools\n",
    "import argparse\n",
    "import matplotlib\n",
    "from matplotlib import pyplot as plt\n",
    "from pylab import *\n",
    "\n",
    "# from model import network\n",
    "\n",
    "from torch import autograd, optim\n",
    "# FLAGS = tf.app.flags.FLAGS\n",
    "# FLAGS = tf.compat.v1.app.flags.FLAGS\n",
    "import sys\n",
    "\n",
    "import numpy as np\n",
    "from sklearn.metrics import precision_recall_curve\n",
    "from sklearn.metrics import average_precision_score\n",
    "import matplotlib.pyplot as plt\n"
   ]
  },
  {
   "cell_type": "code",
   "execution_count": 3,
   "metadata": {},
   "outputs": [
    {
     "data": {
      "text/plain": [
       "'Quadro P3000'"
      ]
     },
     "execution_count": 3,
     "metadata": {},
     "output_type": "execute_result"
    }
   ],
   "source": [
    "torch.cuda.device_count()\n",
    "torch.cuda.get_device_name(0)"
   ]
  },
  {
   "cell_type": "code",
   "execution_count": 4,
   "metadata": {
    "collapsed": false,
    "jupyter": {
     "outputs_hidden": false
    },
    "pycharm": {
     "name": "#%%\n"
    }
   },
   "outputs": [
    {
     "data": {
      "text/plain": [
       "0"
      ]
     },
     "execution_count": 4,
     "metadata": {},
     "output_type": "execute_result"
    }
   ],
   "source": [
    "config = json.loads(open(\"./data/config\",'r').read())\n",
    "DEVICE = \"cuda:0\" if torch.cuda.is_available() else \"cpu\"\n",
    "torch.cuda.set_device(DEVICE)\n",
    "torch.cuda.current_device()"
   ]
  },
  {
   "cell_type": "code",
   "execution_count": 5,
   "metadata": {
    "collapsed": false,
    "jupyter": {
     "outputs_hidden": false
    },
    "pycharm": {
     "name": "#%%\n"
    }
   },
   "outputs": [],
   "source": [
    "parser = argparse.ArgumentParser()\n",
    "\n",
    "parser.add_argument('--shot', default=5, type=int, \n",
    "        help='Number of seeds')\n",
    "parser.add_argument('--eval_iter', default=1000, type=int, \n",
    "        help='Eval iteration')\n",
    "\n",
    "# snowball hyperparameter\n",
    "parser.add_argument(\"--phase1_add_num\", help=\"number of instances added in phase 1\", type=int, default=5)\n",
    "parser.add_argument(\"--phase2_add_num\", help=\"number of instances added in phase 2\", type=int, default=5)\n",
    "parser.add_argument(\"--phase1_siamese_th\", help=\"threshold of relation siamese network in phase 1\", type=float, default=0.5)\n",
    "parser.add_argument(\"--phase2_siamese_th\", help=\"threshold of relation siamese network in phase 2\", type=float, default=0.5)\n",
    "parser.add_argument(\"--phase2_cl_th\", help=\"threshold of relation classifier in phase 2\", type=float, default=0.9)\n",
    "\n",
    "parser.add_argument(\"--snowball_max_iter\", help=\"number of iterations of snowball\", type=int, default=5)\n",
    "\n",
    "# fine-tune hyperparameter\n",
    "parser.add_argument(\"--finetune_epoch\", help=\"num of epochs when finetune\", type=int, default=50)\n",
    "parser.add_argument(\"--finetune_batch_size\", help=\"batch size when finetune\", type=int, default=10)\n",
    "parser.add_argument(\"--finetune_lr\", help=\"learning rate when finetune\", type=float, default=0.05)\n",
    "parser.add_argument(\"--finetune_wd\", help=\"weight decay rate when finetune\", type=float, default=1e-5)\n",
    "parser.add_argument(\"--finetune_weight\", help=\"loss weight of negative samples\", type=float, default=0.2)\n",
    "\n",
    "parser.add_argument('--model', help='neural models to encode sentences',type=str, default= 'cnn')\n",
    "parser.add_argument('--use_baseline', help='baseline or hier', type=bool, default= False)\n",
    "parser.add_argument('--gpu', help='gpu to use', type=int, default= '0')\n",
    "parser.add_argument('--allow_growth', help='memory growth', type=bool, default= False )\n",
    "parser.add_argument('--data_path', help= 'path to load data', type=str, default= './data/')\n",
    "parser.add_argument('--model_dir', help='path to store model', type=str, default= './outputs/ckpt/')\n",
    "parser.add_argument('--summary_dir',help='path to store summary_dir',type=str, default= './outputs/summary')\n",
    "parser.add_argument('--batch_size', help='entity numbers used each training time', type=int, default= 160)\n",
    "# training\n",
    "parser.add_argument('--max_epoch', help='maximum of training epochs', type=int,default= 40)\n",
    "parser.add_argument('--save_epoch', help='frequency of training epochs', type=int,default=2 )\n",
    "parser.add_argument('--restore_epoch',help='epoch to continue training',type=int, default=0 )\n",
    "parser.add_argument('--learning_rate', help='learning rate', type=float, default=0.2 )\n",
    "parser.add_argument('--weight_decay', help='weight_decay', type=float,default=0.00001 )\n",
    "parser.add_argument('--keep_prob', help='dropout rate', type=float, default=0.5 )\n",
    "\n",
    "# test_settings\n",
    "parser.add_argument('--test_single', help = 'only test one checkpoint', type = bool, default = True)\n",
    "parser.add_argument('--test_start_ckpt', help = 'first epoch to test', type = int, default = 1)\n",
    "parser.add_argument('--test_end_ckpt', help = 'last epoch to test', type = int, default = 30)\n",
    "parser.add_argument('--test_sleep', help = 'time units to sleep ', type = float, default = 10)\n",
    "parser.add_argument('--test_use_step', help = 'test step instead of epoch', type = bool, default = bool)\n",
    "parser.add_argument('--test_start_step', help = 'first step to test', type = int, default = 0*1832)\n",
    "parser.add_argument('--test_end_step', help = 'last step to test', type = int , default = 30*1832)\n",
    "parser.add_argument('--test_step', help = 'step to add per test', type = int, default = 1832)\n",
    "\n",
    "\n",
    "# parameters\n",
    "parser.add_argument('--word_size', help= 'maximum of relations', type=int,default= config['word_size'])\n",
    "parser.add_argument('--hidden_size', help = 'hidden feature size',type=int, default= 230 )\n",
    "parser.add_argument('--pos_size', help='position embedding size',type=int, default=5)\n",
    "# statistics\n",
    "parser.add_argument('--max_length', help= 'maximum of number of words in one sentence',type=int, default=config['fixlen'])\n",
    "parser.add_argument('--pos_num', help='number of position embedding vectors', type=int,default= config['maxlen'] * 2 + 1)\n",
    "parser.add_argument('--num_classes', help='maximum of relations',type=int, default= len(config['relation2id']))\n",
    "parser.add_argument('--vocabulary_size', help='maximum of relations',type=int, default= len(config['word2id']))\n",
    "\n",
    "args = parser.parse_args(args = [])"
   ]
  },
  {
   "cell_type": "markdown",
   "metadata": {},
   "source": [
    "## 1. Load Data"
   ]
  },
  {
   "cell_type": "code",
   "execution_count": 14,
   "metadata": {},
   "outputs": [
    {
     "data": {
      "text/plain": [
       "'./data/'"
      ]
     },
     "execution_count": 14,
     "metadata": {},
     "output_type": "execute_result"
    }
   ],
   "source": [
    "export_path = args.data_path\n",
    "init_file = './data/initial_vectors/' + ('init_vec_pcnn' if args.model[:4].lower() == 'pcnn' and not args.use_baseline else 'init_vec')\n",
    "max_length = config['maxlen']\n",
    "export_path"
   ]
  },
  {
   "cell_type": "code",
   "execution_count": 15,
   "metadata": {},
   "outputs": [],
   "source": [
    "instance_triple = np.load(export_path + 'train_instance_triple.npy') \n",
    "instance_scope = np.load(export_path + 'train_instance_scope.npy')\n",
    "train_len = np.load(export_path + 'train_len.npy')\n",
    "train_label = np.load(export_path + 'train_label.npy')\n",
    "train_word = np.load(export_path + 'train_word.npy')\n",
    "train_pos1 = np.load(export_path + 'train_pos1.npy')\n",
    "train_pos2 = np.load(export_path + 'train_pos2.npy')\n",
    "train_mask = np.load(export_path + 'train_mask.npy')"
   ]
  },
  {
   "cell_type": "code",
   "execution_count": 16,
   "metadata": {},
   "outputs": [],
   "source": [
    "instance_scope_Tensor = torch.LongTensor(np.load(export_path + 'train_instance_scope.npy')).to(DEVICE)\n",
    "train_len_Tensor = torch.LongTensor(np.load(export_path + 'train_len.npy')).to(DEVICE)\n",
    "train_label_Tensor = torch.LongTensor(np.load(export_path + 'train_label.npy')).to(DEVICE)\n",
    "train_word_Tensor = torch.LongTensor(train_word).to(DEVICE)\n",
    "train_pos1_Tensor = torch.LongTensor(train_pos1).to(DEVICE)\n",
    "train_pos2_Tensor = torch.LongTensor(train_pos2).to(DEVICE)\n",
    "train_mask_Tensor = torch.LongTensor(train_mask).to(DEVICE)"
   ]
  },
  {
   "cell_type": "code",
   "execution_count": 17,
   "metadata": {},
   "outputs": [],
   "source": [
    "instance_scope_Tensor = torch.LongTensor(np.load(export_path + 'train_instance_scope.npy')).to(DEVICE)\n",
    "train_len_Tensor = torch.LongTensor(np.load(export_path + 'train_len.npy')).to(DEVICE)\n",
    "train_label_Tensor = torch.LongTensor(np.load(export_path + 'train_label.npy')).to(DEVICE)\n",
    "train_word_Tensor = torch.LongTensor(train_word).to(DEVICE)\n",
    "train_pos1_Tensor = torch.LongTensor(train_pos1).to(DEVICE)\n",
    "train_pos2_Tensor = torch.LongTensor(train_pos2).to(DEVICE)\n",
    "train_mask_Tensor = torch.LongTensor(train_mask).to(DEVICE)"
   ]
  },
  {
   "cell_type": "code",
   "execution_count": 18,
   "metadata": {
    "collapsed": false,
    "jupyter": {
     "outputs_hidden": false
    },
    "pycharm": {
     "name": "#%%\n"
    }
   },
   "outputs": [
    {
     "data": {
      "text/plain": [
       "dict_keys(['relation_levels', 'wordvec'])"
      ]
     },
     "execution_count": 18,
     "metadata": {},
     "output_type": "execute_result"
    }
   ],
   "source": [
    "init_vec = pickle.load(open(init_file, 'rb'))\n",
    "init_vec.keys()"
   ]
  },
  {
   "cell_type": "code",
   "execution_count": 19,
   "metadata": {},
   "outputs": [
    {
     "data": {
      "text/plain": [
       "53"
      ]
     },
     "execution_count": 19,
     "metadata": {},
     "output_type": "execute_result"
    }
   ],
   "source": [
    "relation_levels_Tensor = torch.LongTensor(init_vec['relation_levels'])\n",
    "relation_levels_Tensor.shape[0]"
   ]
  },
  {
   "cell_type": "code",
   "execution_count": 20,
   "metadata": {},
   "outputs": [
    {
     "data": {
      "text/plain": [
       "1    19\n",
       "5    15\n",
       "3    10\n",
       "4     3\n",
       "7     2\n",
       "0     1\n",
       "2     1\n",
       "6     1\n",
       "8     1\n",
       "Name: p_index, dtype: int64"
      ]
     },
     "execution_count": 20,
     "metadata": {},
     "output_type": "execute_result"
    }
   ],
   "source": [
    "relation_levels_pd = pd.DataFrame(init_vec['relation_levels'], columns = ['p_index', 'index'])\n",
    "relation_levels_pd.iloc[:, 0].value_counts()"
   ]
  },
  {
   "cell_type": "code",
   "execution_count": 21,
   "metadata": {},
   "outputs": [
    {
     "data": {
      "text/plain": [
       "array([ 9, 53])"
      ]
     },
     "execution_count": 21,
     "metadata": {},
     "output_type": "execute_result"
    }
   ],
   "source": [
    "relation_level_layer = (1 + np.max(init_vec['relation_levels'], 0)).astype(np.int32)\n",
    "relation_level_layer"
   ]
  },
  {
   "cell_type": "markdown",
   "metadata": {},
   "source": [
    "## 2. Build Networks"
   ]
  },
  {
   "cell_type": "code",
   "execution_count": 22,
   "metadata": {
    "collapsed": false,
    "jupyter": {
     "outputs_hidden": false
    },
    "pycharm": {
     "is_executing": true,
     "name": "#%%\n"
    }
   },
   "outputs": [
    {
     "name": "stdout",
     "output_type": "stream",
     "text": [
      "50 114042 201\n"
     ]
    }
   ],
   "source": [
    "word_size = args.word_size\n",
    "vocab_size = args.vocabulary_size - 2\n",
    "print(word_size , vocab_size, args.pos_num)"
   ]
  },
  {
   "cell_type": "code",
   "execution_count": 23,
   "metadata": {
    "collapsed": false,
    "jupyter": {
     "outputs_hidden": false
    },
    "pycharm": {
     "is_executing": true,
     "name": "#%%\n"
    }
   },
   "outputs": [],
   "source": [
    "class MyEmbedder(nn.Module):\n",
    "    def __init__(self, word_vec_mat, max_length, pos_dim, word_embedding_dim=50, pos_embedding_dim=5):\n",
    "        nn.Module.__init__(self)\n",
    "\n",
    "        self.max_length = max_length\n",
    "        self.pos_dim = pos_dim\n",
    "        self.word_embedding_dim = word_embedding_dim\n",
    "        self.pos_embedding_dim = pos_embedding_dim\n",
    "        \n",
    "        # Word embedding\n",
    "        unk = torch.randn(1, word_embedding_dim) / math.sqrt(word_embedding_dim)\n",
    "        blk = torch.zeros(1, word_embedding_dim)\n",
    "        word_vec_mat = torch.from_numpy(word_vec_mat)\n",
    "        self.word_embedding = nn.Embedding(word_vec_mat.shape[0] + 2, self.word_embedding_dim, padding_idx=word_vec_mat.shape[0] + 1)\n",
    "        self.word_embedding.weight.data.copy_(torch.cat((word_vec_mat, unk, blk), 0))\n",
    "\n",
    "        # Position Embedding\n",
    "        blk_pos = torch.zeros(1, pos_embedding_dim)\n",
    "        self.pos1_embedding = nn.Embedding(pos_dim + 1, pos_embedding_dim, padding_idx= pos_dim)\n",
    "        self.pos2_embedding = nn.Embedding(pos_dim + 1, pos_embedding_dim, padding_idx= pos_dim)\n",
    "#         self.pos1_embedding.weight.data.copy_(torch.cat((pos1_embedding,  blk_pos), 0))\n",
    "#         self.pos2_embedding.weight.data.copy_(torch.cat((pos2_embedding, blk_pos), 0))\n",
    "\n",
    "    def forward(self, inputs):\n",
    "        word = inputs['word']\n",
    "        pos1 = inputs['pos1']\n",
    "        pos2 = inputs['pos2']\n",
    "        \n",
    "        x = torch.cat([self.word_embedding(word), \n",
    "                            self.pos1_embedding(pos1), \n",
    "                            self.pos2_embedding(pos2)], 2)\n",
    "        return x"
   ]
  },
  {
   "cell_type": "code",
   "execution_count": 24,
   "metadata": {
    "collapsed": false,
    "jupyter": {
     "outputs_hidden": false
    },
    "pycharm": {
     "is_executing": true,
     "name": "#%%\n"
    }
   },
   "outputs": [],
   "source": [
    "class MyEncoder(nn.Module):\n",
    "    def __init__(self, max_length, word_embedding_dim=50, pos_embedding_dim=5, hidden_size=230):\n",
    "        nn.Module.__init__(self)\n",
    "\n",
    "        self.max_length = max_length\n",
    "        self.hidden_size = hidden_size\n",
    "        self.embedding_dim = word_embedding_dim + pos_embedding_dim * 2\n",
    "        self.conv = nn.Conv1d(self.embedding_dim, self.hidden_size, 3, padding=1)\n",
    "        self.pool = nn.MaxPool1d(max_length)\n",
    "\n",
    "        # For PCNN\n",
    "        self.mask_embedding = nn.Embedding(4, 3)\n",
    "        self.mask_embedding.weight.data.copy_(torch.FloatTensor([[1, 0, 0], [0, 1, 0], [0, 0, 1], [0, 0, 0]]))\n",
    "        self.mask_embedding.weight.requires_grad = False\n",
    "        self._minus = -100\n",
    "\n",
    "    def forward(self, inputs):\n",
    "        return self.cnn(inputs)\n",
    "\n",
    "    def cnn(self, inputs):\n",
    "        x = self.conv(inputs.transpose(1, 2))\n",
    "        x = F.relu(x)\n",
    "        x = self.pool(x)\n",
    "        return x.squeeze(2) # n x hidden_size\n",
    "\n",
    "    def pcnn(self, inputs, mask):\n",
    "        x = self.conv(inputs.transpose(1, 2)) # n x hidden x length\n",
    "        mask = 1 - self.mask_embedding(mask).transpose(1, 2) # n x 3 x length\n",
    "        pool1 = self.pool(F.relu(x + self._minus * mask[:, 0:1, :]))\n",
    "        pool2 = self.pool(F.relu(x + self._minus * mask[:, 1:2, :]))\n",
    "        pool3 = self.pool(F.relu(x + self._minus * mask[:, 2:3, :]))\n",
    "        x = torch.cat([pool1, pool2, pool3], 1)\n",
    "        x = x.squeeze(2) # n x (hidden_size * 3) "
   ]
  },
  {
   "cell_type": "code",
   "execution_count": 25,
   "metadata": {
    "collapsed": false,
    "jupyter": {
     "outputs_hidden": false
    },
    "pycharm": {
     "is_executing": true,
     "name": "#%%\n"
    }
   },
   "outputs": [],
   "source": [
    "class MyCNNSentenceEncoder(nn.Module):\n",
    "\n",
    "    def __init__(self, word_vec_mat, max_length, pos_dim, word_embedding_dim=50, pos_embedding_dim=5, hidden_size=230):\n",
    "        nn.Module.__init__(self)\n",
    "        self.hidden_size = hidden_size\n",
    "        self.max_length = max_length\n",
    "        self.pos_dim = pos_dim\n",
    "        self.embedding = MyEmbedder(word_vec_mat, max_length, pos_dim, word_embedding_dim, pos_embedding_dim)\n",
    "        self.encoder = MyEncoder(max_length, word_embedding_dim, pos_embedding_dim, hidden_size)\n",
    "\n",
    "    def forward(self, inputs):\n",
    "        x = self.embedding(inputs)\n",
    "        x = self.encoder(x)\n",
    "        return x\n",
    "\n",
    "class MyPCNNSentenceEncoder(nn.Module):\n",
    "\n",
    "    def __init__(self, word_vec_mat, max_length, pos_dim, word_embedding_dim=50, pos_embedding_dim=5, hidden_size=230):\n",
    "        nn.Module.__init__(self)\n",
    "        self.hidden_size = hidden_size\n",
    "        self.max_length = max_length\n",
    "        self.embedding = MyEmbedder(word_vec_mat, max_length, pos_dim, word_embedding_dim, pos_embedding_dim)\n",
    "        self.encoder = MyEncoder(max_length, word_embedding_dim, pos_embedding_dim, hidden_size)\n",
    "\n",
    "    def forward(self, inputs):\n",
    "        x = self.embedding(inputs)\n",
    "        x = self.encoder.pcnn(x, inputs['mask'])\n",
    "        return x\n",
    "\n",
    "class MyBERTSentenceEncoder(nn.Module):\n",
    "\n",
    "    def __init__(self, pretrain_path): \n",
    "        nn.Module.__init__(self)\n",
    "        self.bert = BertModel.from_pretrained(pretrain_path)\n",
    "\n",
    "    def forward(self, inputs):\n",
    "        _, x = self.bert(inputs['word'], attention_mask=inputs['mask'])\n",
    "        return x"
   ]
  },
  {
   "cell_type": "code",
   "execution_count": 27,
   "metadata": {
    "collapsed": false,
    "jupyter": {
     "outputs_hidden": false
    },
    "pycharm": {
     "is_executing": true,
     "name": "#%%\n"
    }
   },
   "outputs": [],
   "source": [
    "class HAttentionNetwork(nn.Module):\n",
    "    def __init__(self, sentence_encoder, relation_levels,relation_level_layer,  keep_prob, hidden_size = 230, train_batch_size=262, test_batch_size=None, num_classes = 53):\n",
    "        '''\n",
    "        Pay Attention!\n",
    "        relation_matrix:\n",
    "        id = 0: virtual node\n",
    "        id = 1: NA node\n",
    "        '''\n",
    "        nn.Module.__init__(self)\n",
    "        self.keep_prob = keep_prob\n",
    "        self.hidden_size = hidden_size\n",
    "        self.relation_levels = torch.LongTensor(init_vec['relation_levels']).to(DEVICE)\n",
    "        self.sentence_encoder = sentence_encoder\n",
    "  \n",
    "        self.train_batch_size = train_batch_size\n",
    "        self.test_batch_size = test_batch_size\n",
    "\n",
    "        self.hier = relation_levels.shape[1]\n",
    "        self.layer = relation_level_layer\n",
    "        self.num_classes = num_classes\n",
    "        self.relation_matrixs = []\n",
    "\n",
    "        self.discrimitive_matrix = nn.Parameter(torch.Tensor(args.num_classes, self.hidden_size*2))\n",
    "        self.bias = torch.nn.Parameter(torch.Tensor(53))\n",
    "        self.drop = nn.Dropout(1-self.keep_prob)\n",
    "        self.reset_parameters()\n",
    "  \n",
    "        \n",
    "    def reset_parameters(self):\n",
    "        for i in range(self.hier):\n",
    "            self.relation_matrixs.append(nn.Embedding(self.layer[i], self.hidden_size, _weight = nn.init.xavier_uniform(torch.Tensor(self.layer[i], self.hidden_size))).to(DEVICE))\n",
    "        nn.init.xavier_uniform(self.discrimitive_matrix)\n",
    "        nn.init.zeros_(self.bias)\n",
    "            \n",
    "    def forward(self, data): #data 包含word, pos1, pos2, mask, label, scope\n",
    "        x = self.sentence_encoder(data)\n",
    "\n",
    "\n",
    "        label_layer = self.relation_levels[data['label_index']]\n",
    "        attention_logits = []\n",
    "        for i in range(self.hier):\n",
    "            current_relation = self.relation_matrixs[i](label_layer[:, i]) #batch * 230 \n",
    "            attention_logits.append(torch.sum(current_relation * x, 1)) #batch*230 x batch*230\n",
    "#             print(current_relation)\n",
    "#             print(\"torch.sum(current_relation * x, 1):\" ,torch.sum(current_relation * x, 1).shape)\n",
    "\n",
    "        attention_logits_stack = torch.stack(attention_logits) #将一个batch的结果堆叠起来   \n",
    "#         print(\"attention_logits stack shape:\", attention_logits_stack.shape)\n",
    "\n",
    "        attention_score_hidden = torch.cat([\n",
    "            F.softmax(attention_logits_stack[:, data['scope'][i]:data['scope'][i + 1]]) for i in range(self.train_batch_size)], 1) ###这段出了问题\n",
    "\n",
    "        tower_repre = [] \n",
    "        for i in range(args.batch_size):\n",
    "            sen_matrix = x[data['scope'][i]:data['scope'][i + 1]]\n",
    "#             print(\"sen_matrix shape: \",sen_matrix.shape)\n",
    "            layer_score = attention_score_hidden[:, data['scope'][i]:data['scope'][i + 1]] #查找Layer_score #(2 ,bag_size)\n",
    "#             print(\"layer_score shape: \",layer_score.shape)\n",
    "            layer_repre = torch.reshape(layer_score @ sen_matrix, [-1]) #获得层次化表示表示  # bagsize*230 \n",
    "#             print(\"layer_score @ sen_matrix shape: \", (layer_score @ sen_matrix).shape) #(2, 230) (r_(h, t)^1), (r_(h, t)^2)\n",
    "            tower_repre.append(layer_repre) #获得每个句子的表示 (batchsize, bagsize*230 )\n",
    "#             print(\"layer_repre shape: \", (layer_repre).shape)\n",
    "\n",
    "            \n",
    "        stack_repre = self.drop(torch.stack(tower_repre))  #获得新的表示\n",
    "        logits = stack_repre @ self.discrimitive_matrix.t() + self.bias  # sen_num * 230 matmul 230 * 53 + 53\n",
    "        return logits\n",
    "\n",
    "    def forward_infer(self, data):\n",
    "        x = self.sentence_encoder(data)\n",
    "        \n",
    "        test_attention_scores = []\n",
    "        for i in range(self.hier):\n",
    "            current_relation = self.relation_matrixs[i](self.relation_levels[:, i]) # 53 * 230 \n",
    "            current_logit = current_relation @ x.t()#  53 * batch_size\n",
    "            current_score = torch.cat([F.softmax(current_logit[:, data['scope'][j]:data['scope'][j + 1]]) for j in range(self.test_batch_size)], 1)##得到每一个袋子的attention_score\n",
    "            test_attention_scores.append(current_score) #curr_relation_num * batch_size   堆叠起来，形成两个高度不同的attention_score: 53 * batch_size\n",
    "#             print(current_relation)\n",
    "#             print(\"torch.sum(current_relation * x, 1):\" ,torch.sum(current_relation * x, 1).shape)\n",
    "\n",
    "        test_attention_scores_stack = torch.stack(test_attention_scores, 1) #将一个batch的结果堆叠起来: 53* 2* batch_size\n",
    "#         print(\"attention_logits stack shape:\", attention_logits_stack.shape)\n",
    "\n",
    "        test_tower_output = []\n",
    "        for i in range(self.test_batch_size):\n",
    "            test_sen_matrix = (torch.unsqueeze(x[data['scope'][i]:data['scope'][i + 1]], 0)).repeat(53, 1, 1) #先将 x[data['scope']] 扩充维度形成  53 * bag_size * 230， 然后在第一维重复53次\n",
    "#             print(\"sen_matrix shape: \",sen_matrix.shape)\n",
    "            test_layer_score = test_attention_scores_stack[:,:, data['scope'][i]:data['scope'][i + 1]] #查找Layer_score #(53, 2 ,bag_size) \n",
    "#             print(\"layer_score shape: \",layer_score.shape)\n",
    "            test_layer_repre = torch.reshape(test_layer_score @ test_sen_matrix, [self.num_classes, -1]) #获得层次化表示表示  # 53 * 2 * bag_size @ 53* bag_size *230, 53* 2 *230 ,reshape 53 *460\n",
    "#             print(\"layer_score @ sen_matrix shape: \", (layer_score @ sen_matrix).shape) #(2, 230) (r_(h, t)^1), (r_(h, t)^2)\n",
    "#             print(\"layer_repre shape: \", (layer_repre).shape)\n",
    "            test_logits = test_layer_repre @ self.discrimitive_matrix.t() + self.bias  # sen_num * 230 matmul 230 * 53 + 53\n",
    "            test_output = torch.diagonal(F.softmax(test_logits))\n",
    "            test_tower_output.append(test_output)\n",
    "            \n",
    "        test_stack_output = torch.reshape(torch.stack(test_tower_output), [self.test_batch_size, self.num_classes])\n",
    "        return test_stack_output\n"
   ]
  },
  {
   "cell_type": "markdown",
   "metadata": {},
   "source": [
    "## 3. Train Model"
   ]
  },
  {
   "cell_type": "markdown",
   "metadata": {},
   "source": [
    "##### 关于batch里边的几个变量\n",
    "* 每一个batch里边放入的是instance_scope，也就是$S_{h,t}$\n",
    "```python\n",
    "for i in range(int(len(train_order)/float(args.batch_size))): \n",
    "        input_scope = np.take(instance_scope, train_order[i * args.batch_size:(i+1)*args.batch_size], axis=0) # train_order 记载了 袋子的序号， instance_scop是每个袋子的start 和end\n",
    "        index = []\n",
    "        scope = [0]\n",
    "        label = []\n",
    "        for num in input_scope:\n",
    "            index = index + list(range(num[0], num[1] + 1)) # 放入每一个袋子的起点和重点的每个序号, 这个序号是真实的，如[87684, 298197, 356767,327854, 127113, 127114, 127115, 127116]\n",
    "            label.append(train_label[num[0]])  #这个是每个袋子的第一个数的序号的标签\n",
    "            scope.append(scope[len(scope)-1] + num[1] - num[0] + 1) #这个存的也是序号，只不过是逻辑序号，当前的scope 类似于[0,1,2, , 19, 27, 35]， 代表着每一个袋子的头实例的index\n",
    "```"
   ]
  },
  {
   "cell_type": "code",
   "execution_count": 32,
   "metadata": {
    "collapsed": false,
    "jupyter": {
     "outputs_hidden": false
    },
    "pycharm": {
     "is_executing": true,
     "name": "#%%\n"
    }
   },
   "outputs": [
    {
     "name": "stderr",
     "output_type": "stream",
     "text": [
      "<ipython-input-27-e14f31155eab>:31: UserWarning: nn.init.xavier_uniform is now deprecated in favor of nn.init.xavier_uniform_.\n",
      "  self.relation_matrixs.append(nn.Embedding(self.layer[i], self.hidden_size, _weight = nn.init.xavier_uniform(torch.Tensor(self.layer[i], self.hidden_size))).to(DEVICE))\n",
      "<ipython-input-27-e14f31155eab>:32: UserWarning: nn.init.xavier_uniform is now deprecated in favor of nn.init.xavier_uniform_.\n",
      "  nn.init.xavier_uniform(self.discrimitive_matrix)\n",
      "<ipython-input-27-e14f31155eab>:51: UserWarning: Implicit dimension choice for softmax has been deprecated. Change the call to include dim=X as an argument.\n",
      "  F.softmax(attention_logits_stack[:, data['scope'][i]:data['scope'][i + 1]]) for i in range(self.train_batch_size)], 1) ###这段出了问题\n",
      "<ipython-input-32-7faee2b13fed>:57: UserWarning: Implicit dimension choice for softmax has been deprecated. Change the call to include dim=X as an argument.\n",
      "  output = F.softmax(logits)\n"
     ]
    },
    {
     "name": "stdout",
     "output_type": "stream",
     "text": [
      "epoch 001/040 step 0013 time 2021-03-03 20:32:50.570388 | loss : 0.42195386 | NA accuracy: 0.928846 | not NA accuracy: 0.006250\r"
     ]
    },
    {
     "ename": "KeyboardInterrupt",
     "evalue": "",
     "output_type": "error",
     "traceback": [
      "\u001B[1;31m---------------------------------------------------------------------------\u001B[0m",
      "\u001B[1;31mKeyboardInterrupt\u001B[0m                         Traceback (most recent call last)",
      "\u001B[1;32m<ipython-input-32-7faee2b13fed>\u001B[0m in \u001B[0;36m<module>\u001B[1;34m\u001B[0m\n\u001B[0;32m     54\u001B[0m \u001B[1;31m#         print(\"index length :\", len(index))\u001B[0m\u001B[1;33m\u001B[0m\u001B[1;33m\u001B[0m\u001B[1;33m\u001B[0m\u001B[0m\n\u001B[0;32m     55\u001B[0m \u001B[1;33m\u001B[0m\u001B[0m\n\u001B[1;32m---> 56\u001B[1;33m         \u001B[0mlogits\u001B[0m \u001B[1;33m=\u001B[0m \u001B[0mmodel\u001B[0m\u001B[1;33m(\u001B[0m\u001B[0mfeed_dict\u001B[0m\u001B[1;33m)\u001B[0m\u001B[1;33m\u001B[0m\u001B[1;33m\u001B[0m\u001B[0m\n\u001B[0m\u001B[0;32m     57\u001B[0m         \u001B[0moutput\u001B[0m \u001B[1;33m=\u001B[0m \u001B[0mF\u001B[0m\u001B[1;33m.\u001B[0m\u001B[0msoftmax\u001B[0m\u001B[1;33m(\u001B[0m\u001B[0mlogits\u001B[0m\u001B[1;33m)\u001B[0m\u001B[1;33m\u001B[0m\u001B[1;33m\u001B[0m\u001B[0m\n\u001B[0;32m     58\u001B[0m \u001B[1;31m#         print(torch.LongTensor(train_label[index]).shape)\u001B[0m\u001B[1;33m\u001B[0m\u001B[1;33m\u001B[0m\u001B[1;33m\u001B[0m\u001B[0m\n",
      "\u001B[1;32m~\\anaconda3\\envs\\KGNS\\lib\\site-packages\\torch\\nn\\modules\\module.py\u001B[0m in \u001B[0;36m_call_impl\u001B[1;34m(self, *input, **kwargs)\u001B[0m\n\u001B[0;32m    720\u001B[0m             \u001B[0mresult\u001B[0m \u001B[1;33m=\u001B[0m \u001B[0mself\u001B[0m\u001B[1;33m.\u001B[0m\u001B[0m_slow_forward\u001B[0m\u001B[1;33m(\u001B[0m\u001B[1;33m*\u001B[0m\u001B[0minput\u001B[0m\u001B[1;33m,\u001B[0m \u001B[1;33m**\u001B[0m\u001B[0mkwargs\u001B[0m\u001B[1;33m)\u001B[0m\u001B[1;33m\u001B[0m\u001B[1;33m\u001B[0m\u001B[0m\n\u001B[0;32m    721\u001B[0m         \u001B[1;32melse\u001B[0m\u001B[1;33m:\u001B[0m\u001B[1;33m\u001B[0m\u001B[1;33m\u001B[0m\u001B[0m\n\u001B[1;32m--> 722\u001B[1;33m             \u001B[0mresult\u001B[0m \u001B[1;33m=\u001B[0m \u001B[0mself\u001B[0m\u001B[1;33m.\u001B[0m\u001B[0mforward\u001B[0m\u001B[1;33m(\u001B[0m\u001B[1;33m*\u001B[0m\u001B[0minput\u001B[0m\u001B[1;33m,\u001B[0m \u001B[1;33m**\u001B[0m\u001B[0mkwargs\u001B[0m\u001B[1;33m)\u001B[0m\u001B[1;33m\u001B[0m\u001B[1;33m\u001B[0m\u001B[0m\n\u001B[0m\u001B[0;32m    723\u001B[0m         for hook in itertools.chain(\n\u001B[0;32m    724\u001B[0m                 \u001B[0m_global_forward_hooks\u001B[0m\u001B[1;33m.\u001B[0m\u001B[0mvalues\u001B[0m\u001B[1;33m(\u001B[0m\u001B[1;33m)\u001B[0m\u001B[1;33m,\u001B[0m\u001B[1;33m\u001B[0m\u001B[1;33m\u001B[0m\u001B[0m\n",
      "\u001B[1;32m<ipython-input-27-e14f31155eab>\u001B[0m in \u001B[0;36mforward\u001B[1;34m(self, data)\u001B[0m\n\u001B[0;32m     37\u001B[0m \u001B[1;33m\u001B[0m\u001B[0m\n\u001B[0;32m     38\u001B[0m \u001B[1;33m\u001B[0m\u001B[0m\n\u001B[1;32m---> 39\u001B[1;33m         \u001B[0mlabel_layer\u001B[0m \u001B[1;33m=\u001B[0m \u001B[0mself\u001B[0m\u001B[1;33m.\u001B[0m\u001B[0mrelation_levels\u001B[0m\u001B[1;33m[\u001B[0m\u001B[0mdata\u001B[0m\u001B[1;33m[\u001B[0m\u001B[1;34m'label_index'\u001B[0m\u001B[1;33m]\u001B[0m\u001B[1;33m]\u001B[0m\u001B[1;33m\u001B[0m\u001B[1;33m\u001B[0m\u001B[0m\n\u001B[0m\u001B[0;32m     40\u001B[0m         \u001B[0mattention_logits\u001B[0m \u001B[1;33m=\u001B[0m \u001B[1;33m[\u001B[0m\u001B[1;33m]\u001B[0m\u001B[1;33m\u001B[0m\u001B[1;33m\u001B[0m\u001B[0m\n\u001B[0;32m     41\u001B[0m         \u001B[1;32mfor\u001B[0m \u001B[0mi\u001B[0m \u001B[1;32min\u001B[0m \u001B[0mrange\u001B[0m\u001B[1;33m(\u001B[0m\u001B[0mself\u001B[0m\u001B[1;33m.\u001B[0m\u001B[0mhier\u001B[0m\u001B[1;33m)\u001B[0m\u001B[1;33m:\u001B[0m\u001B[1;33m\u001B[0m\u001B[1;33m\u001B[0m\u001B[0m\n",
      "\u001B[1;31mKeyboardInterrupt\u001B[0m: "
     ]
    }
   ],
   "source": [
    "sentence_encoder = MyCNNSentenceEncoder(init_vec['wordvec'], 120, args.pos_num, 50, 5, 230)\n",
    "model = HAttentionNetwork(sentence_encoder, relation_levels_Tensor, relation_level_layer,  0.8, 230, train_batch_size= args.batch_size).to(DEVICE)\n",
    "criterion = nn.CrossEntropyLoss().to(DEVICE)\n",
    "parameters_to_optimize = filter(lambda x:x.requires_grad, model.parameters())\n",
    "optimizer = optim.SGD(parameters_to_optimize,\n",
    "        args.learning_rate,\n",
    "        weight_decay=args.weight_decay)\n",
    "train_order = list(range(len(instance_triple))) # 预先定义训练顺序\n",
    "\n",
    "loss_history = []\n",
    "val_acc_history = []\n",
    "\n",
    "model.train()\n",
    "torch.save(model, args.model_dir + 'HATT'+'-iter-'+str(0)+'.pkl')  # save entire net\n",
    "torch.save(model.state_dict(), args.model_dir + 'HATT_params'+'-iter-'+str(0)+'.pkl')   # save o\n",
    "for one_epoch in range(args.max_epoch):\n",
    "# for one_epoch in range(1):\n",
    "\n",
    "    np.random.shuffle(train_order) # 打乱训练集\n",
    "    s1 = 0.0\n",
    "    s2 = 0.0\n",
    "    tot1 = 0.0\n",
    "    tot2 = 0.0 \n",
    "    loss_sum = 0.0\n",
    "    step_sum = 0.0\n",
    "    for i in range(int(len(train_order)/float(args.batch_size))):\n",
    "#     for i in range(1):\n",
    "\n",
    "        input_scope = np.take(instance_scope, train_order[i * args.batch_size:(i+1)*args.batch_size], axis=0) # train_order 记载了 袋子的序号， instance_scop是每个袋子的start 和end\n",
    "        index = []\n",
    "        scope = [0]\n",
    "        label = []\n",
    "        for num in input_scope:\n",
    "            index = index + list(range(num[0], num[1] + 1)) # 放入每一个袋子的起点和重点的每个序号\n",
    "            label.append(train_label[num[0]])  #这个是每个袋子的第一个数的序号的标签\n",
    "            scope.append(scope[len(scope)-1] + num[1] - num[0] + 1) #这个存的是，当前的scope 类似于[0,1,2, , 19, 27, 35]， 代表着每一个袋子包含的实例的个数\n",
    "#         print(\"index length:\", len(index), \"label length\", len(label), \"scope length\", len(scope), \"label_\", len(label_))\n",
    "        label_ = np.zeros((args.batch_size, args.num_classes)) #相当于 做了一个onehot_dict\n",
    "        label_[np.arange(args.batch_size), label] = 1 # 为onehot_dict 赋值\n",
    "#         output, loss, correct_predictions = train_step(train_word[index,:], train_pos1[index,:], train_pos2[index,:], \n",
    "#             train_mask[index,:], train_len[index],train_label[index], label_, np.array(scope))  ### 这里需要改成 model 的运行函数\n",
    "        feed_dict = {\n",
    "            'word' : torch.LongTensor(train_word[index,:]).to(DEVICE), \n",
    "            'pos1' : torch.LongTensor(train_pos1[index,:]).to(DEVICE), \n",
    "            'pos2' : torch.LongTensor(train_pos2[index,:]).to(DEVICE), \n",
    "            'mask' : torch.LongTensor(train_mask[index,:]).to(DEVICE),\n",
    "            'len': torch.LongTensor(train_len[index]).to(DEVICE),\n",
    "            'label_index' :   torch.LongTensor(train_label[index]),\n",
    "            'label_': torch.LongTensor(label_).to(DEVICE), #可以不用\n",
    "            'scope': scope\n",
    "        }\n",
    "        ## 评价\n",
    "        \n",
    "#         print(\"index length :\", len(index))\n",
    "\n",
    "        logits = model(feed_dict)\n",
    "        output = F.softmax(logits)\n",
    "#         print(torch.LongTensor(train_label[index]).shape)\n",
    "#         print(\"output shape:\", output.shape)\n",
    "        loss = criterion(logits, torch.LongTensor(label).to(DEVICE))      # 计算损失值\n",
    "\n",
    "        optimizer.zero_grad()\n",
    "        loss.backward()     # 反向传播计算参数的梯度\n",
    "        optimizer.step()    # 使用优化方法进行梯度更新\n",
    "#         print(logits)\n",
    "#         print(\"logits shape:\", logits.shape)\n",
    "        predictions = torch.argmax(logits, 1)\n",
    "#         print(\"predictions shape\", predictions.shape, \"torch.argmax(torch.LongTensor(label), 1) shape\", torch.argmax(torch.LongTensor(label_), 1).shape)\n",
    "        correct_predictions = torch.eq(predictions, torch.argmax(torch.LongTensor(label_).to(DEVICE), 1))\n",
    "#         print(\"predictions matrix:\", predictions)\n",
    "#         print(\"torch.argmax(torch.LongTensor(label_), 1) matrix:\", torch.argmax(torch.LongTensor(label_), 1))\n",
    "\n",
    "#         print(correct_predictions)\n",
    "#         print(\"correct_predictions: \", correct_predictions.shape)\n",
    "        accuracy = torch.mean(correct_predictions.float())\n",
    "        ###\n",
    "        num = 0\n",
    "        s = 0\n",
    "        for num in correct_predictions:  # 在这160个batch中\n",
    "            if label[s] == 0: #如果预测==0\n",
    "                tot1 += 1.0\n",
    "                if num: ##如果==0且正确\n",
    "                    s1+= 1.0\n",
    "            else:\n",
    "                tot2 += 1.0 \n",
    "                if num: ##如果预测！=0且正确\n",
    "                    s2 += 1.0\n",
    "            s = s + 1\n",
    "#         print(loss.item(), \"\\n\")\n",
    "        loss_sum += loss.item() #更新 loss\n",
    "        step_sum += 1.0 #更新一个batch 中的step_sum， 疑似等于 i， 这个可能用在外循环上\n",
    "        if tot1 == 0:  #防止分母为0, 这里是NA = s1/tot1 , NA的准确率为， 预测正确的NA的数量/NA的总数\n",
    "            tot1 += 1 \n",
    "        if tot2 == 0: #防止坟墓为0，这里是not NA = s2/tot2, 这里表示，预测正确的非NA的综述, 算是TP查准率 \n",
    "            tot2 += 1\n",
    "        \n",
    "        time_str = datetime.datetime.now().isoformat().replace('T',' ')\n",
    "        temp_str = 'epoch {0:0>3}/{1:0>3} step {2:0>4} time {3:26} | loss : {4:1.8f} | NA accuracy: {5:1.6f} | not NA accuracy: {6:1.6f}\\r'.format(args.restore_epoch + one_epoch + 1, args.restore_epoch + args.max_epoch, i, time_str, loss.item(), s1 / tot1, s2 / tot2)\n",
    "        sys.stdout.write(temp_str)\n",
    "        sys.stdout.flush()\n",
    "        loss_history.append(loss.item())\n",
    "    temp_str = 'epoch {0:0>3}/{1:0>3} step {2:0>4} time {3:26} | loss : {4:1.8f} | NA accuracy: {5:1.6f} | not NA accuracy: {6:1.6f}\\r'.format(args.restore_epoch + one_epoch + 1, args.restore_epoch + args.max_epoch, i, time_str, loss_sum/step_sum, s1 / tot1, s2 / tot2)\n",
    "    \n",
    "    print(temp_str) \n",
    "#     current_step = tf.train.global_step(sess, global_step) #tensorflow 版本的模型保存\n",
    "    if (one_epoch + 1) % args.save_epoch == 0: # 如果到达一个保存周期\n",
    "        # 2 ways to save the net\n",
    "        torch.save(model, args.model_dir + 'HATT'+'-iter-'+str(one_epoch*int(len(train_order)/float(args.batch_size)) + i+1)+'.pkl')  # save entire net\n",
    "        torch.save(model.state_dict(), args.model_dir + 'HATT_params'+'-iter-'+str(one_epoch*int(len(train_order)/float(args.batch_size)) + i+1)+'.pkl')   # save o\n",
    "#         sys.stdout.write('saving model...' + '\\r')\n",
    "#         sys.stdout.flush()\n",
    "#         path = saver.save(sess,FLAGS.model_dir + FLAGS.model, global_step=current_step)\n",
    "#         sys.stdout.write('have saved model to ' + path + '\\r')\n",
    "#         sys.stdout.flush()\n"
   ]
  },
  {
   "cell_type": "code",
   "execution_count": 33,
   "metadata": {},
   "outputs": [],
   "source": [
    "def plot_loss_with_acc(loss_history):\n",
    "    fig = plt.figure()\n",
    "    ax1 = fig.add_subplot(111)\n",
    "    ax1.plot(range(len(loss_history)), loss_history,\n",
    "             c=np.array([255, 71, 90]) / 255.)\n",
    "    plt.ylabel('Loss')\n",
    "    plt.ylim(0, 1)\n",
    "    plt.xlabel('Epoch')\n",
    "    plt.title('Training Loss & Validation Accuracy')\n",
    "    plt.show()"
   ]
  },
  {
   "cell_type": "code",
   "execution_count": 34,
   "metadata": {},
   "outputs": [
    {
     "data": {
      "image/png": "[encoded data removed]",
      "text/plain": [
       "<Figure size 432x288 with 1 Axes>"
      ]
     },
     "metadata": {
      "needs_background": "light"
     },
     "output_type": "display_data"
    }
   ],
   "source": [
    "plot_loss_with_acc(loss_history)"
   ]
  },
  {
   "cell_type": "markdown",
   "metadata": {},
   "source": [
    "## 4. Evaluation"
   ]
  },
  {
   "cell_type": "markdown",
   "metadata": {},
   "source": [
    "### 4.1 preparation"
   ]
  },
  {
   "cell_type": "code",
   "execution_count": 53,
   "metadata": {
    "collapsed": false,
    "jupyter": {
     "outputs_hidden": false
    },
    "pycharm": {
     "is_executing": true,
     "name": "#%%\n"
    }
   },
   "outputs": [],
   "source": [
    "from utils import printer"
   ]
  },
  {
   "cell_type": "code",
   "execution_count": 54,
   "metadata": {
    "collapsed": false,
    "jupyter": {
     "outputs_hidden": false
    },
    "pycharm": {
     "is_executing": true,
     "name": "#%%\n"
    }
   },
   "outputs": [],
   "source": [
    "### 定义评价需要用的变量\n",
    "parser_test = argparse.ArgumentParser()\n",
    "\n",
    "parser_test.add_argument('--model', help = 'neural models to encode sentences', type = str, default = 'WATT')\n",
    "parser_test.add_argument('--use_baseline',  help ='baseline or hier', type = bool, default = False)\n",
    "parser_test.add_argument('--mode',  help= 'test mode', type = str, default = 'pr')\n",
    "parser_test.add_argument('--gpu',  help =  'gpu(s) to use', type = str, default = '2')\n",
    "parser_test.add_argument('--allow_growth',  help =  'occupying gpu(s) gradually', type = bool, default = True)\n",
    "parser_test.add_argument('--checkpoint_path', help='path to store model', type = str, default = './outputs/ckpt/')\n",
    "parser_test.add_argument('--logits_path', help = 'path to store model', type = str, default = './outputs/logits/')\n",
    "parser_test.add_argument('--data_path',  help = 'path to load data', type = str, default = './data/')\n",
    "parser_test.add_argument('--batch_size', help ='instance(entity pair) numbers to use each training(testing) time', type = int, default = 262)\n",
    "\n",
    "# training settings\n",
    "parser_test.add_argument('--max_epoch',  help = 'maximum of training epochs', type = int, default = 30)\n",
    "parser_test.add_argument('--save_epoch',  help = 'frequency of training epochs', type = int, default = 40)\n",
    "parser_test.add_argument('--learning_rate', help = 'entity numbers used each training time', type = float, default = 0.2)\n",
    "parser_test.add_argument('--weight_decay', help = 'weight_decay', type = float, default = 0.00001)\n",
    "parser_test.add_argument('--keep_prob', help = 'dropout rate', type = float, default = 1.0)\n",
    "\n",
    "# test_settings\n",
    "parser_test.add_argument('--test_single', help =  'only test one checkpoint', type = bool, default = True)\n",
    "parser_test.add_argument('--test_start_ckpt', help = 'first epoch to test', type = int, default = 1)\n",
    "parser_test.add_argument('--test_end_ckpt', help = 'last epoch to test', type = int, default = 30)\n",
    "parser_test.add_argument('--test_sleep', help = 'time units to sleep ', type = float, default = 10)\n",
    "parser_test.add_argument('--test_use_step', help = 'test step instead of epoch', type = bool, default = False)\n",
    "parser_test.add_argument('--test_start_step', help = 'first step to test', type = int, default = 0*1832)\n",
    "parser_test.add_argument('--test_end_step', help = 'last step to test', type = int, default = 30*1832)\n",
    "parser_test.add_argument('--test_step', help = 'step to add per test', type = int , default = 1832)\n",
    "\n",
    "# parameters\n",
    "parser_test.add_argument('--word_size',  help = 'maximum of relations', type = int, default = config['word_size'])\n",
    "parser_test.add_argument('--hidden_size',help = 'hidden feature size', type = int, default = 230)\n",
    "parser_test.add_argument('--pos_size', help = 'position embedding size', type = int, default = 5)\n",
    "\n",
    "# statistics\n",
    "parser_test.add_argument('--max_length', help = 'maximum of number of words in one sentence', type = int, default = config['fixlen'])\n",
    "parser_test.add_argument('--pos_num', help = 'number of position embedding vectors', type = int, default = config['maxlen'])\n",
    "parser_test.add_argument('--num_classes', help = 'maximum of relations', type = int, default = len(config['relation2id']))\n",
    "parser_test.add_argument('--vocabulary_size', help= 'maximum of relations', type = int, default = len(config['word2id']))\n",
    "\n",
    "args_test = parser_test.parse_args(args = [])"
   ]
  },
  {
   "cell_type": "code",
   "execution_count": 55,
   "metadata": {
    "collapsed": false,
    "jupyter": {
     "outputs_hidden": false
    },
    "pycharm": {
     "is_executing": true,
     "name": "#%%\n"
    }
   },
   "outputs": [],
   "source": [
    "import sys\n",
    "\n",
    "class MyPrinter(object):\n",
    "    def __init__(self, ):\n",
    "        super(Printer, self).__init__()\n",
    "        self._maxlen = 0\n",
    "\n",
    "    def __call__(self, x, inplace=True):       \n",
    "        if inplace:\n",
    "            if len(x) >= self._maxlen:\n",
    "                self._maxlen = len(x)\n",
    "            else:\n",
    "                x = x + ' ' * (self._maxlen - len(x))\n",
    "            sys.stdout.write(x + '\\r')\n",
    "            sys.stdout.flush()\n",
    "        else:\n",
    "            self._maxlen = 0\n",
    "            print(x)\n",
    "        return self._maxlen\n",
    "\n",
    "    @property\n",
    "    def maxlen(self):\n",
    "        return self._maxlen\n",
    "\n",
    "    @maxlen.setter\n",
    "    def maxlen(self, val):\n",
    "        self._maxlen = val\n",
    "        return val"
   ]
  },
  {
   "cell_type": "code",
   "execution_count": 56,
   "metadata": {
    "collapsed": false,
    "jupyter": {
     "outputs_hidden": false
    },
    "pycharm": {
     "is_executing": true,
     "name": "#%%\n"
    }
   },
   "outputs": [],
   "source": [
    "mode = \"hit_k_100\" #在这里更改评价模式：可选 hit_k_100, hit_k_200, pr, pone, ptwo, pall\n",
    "export_path = args_test.data_path # 在这里更改输出logits的目录 \n",
    "pter = printer.Printer()\n",
    "\n",
    "if mode == 'hit_k_100' or mode == 'hit_k_200':\n",
    "    f = open(\"raw_data/relation2id.txt\", \"r\")\n",
    "    content = f.readlines()[1:]\n",
    "    id2rel = {}\n",
    "    for i in content:\n",
    "        rel, rid = i.strip().split()\n",
    "        id2rel[(int)(rid)] = rel\n",
    "    f.close()\n",
    "\n",
    "    fewrel = {}\n",
    "    if mode == 'hit_k_100': # 选择读取文件\n",
    "        f = open(\"data/rel100.txt\", \"r\")\n",
    "    else:\n",
    "        f = open(\"data/rel200.txt\", \"r\")\n",
    "    content = f.readlines()\n",
    "    for i in content:\n",
    "        fewrel[i.strip()] = 1\n",
    "    f.close()"
   ]
  },
  {
   "cell_type": "code",
   "execution_count": 57,
   "metadata": {
    "collapsed": false,
    "jupyter": {
     "outputs_hidden": false
    },
    "pycharm": {
     "is_executing": true,
     "name": "#%%\n"
    }
   },
   "outputs": [],
   "source": [
    "if mode == 'pr' or mode == 'hit_k_100' or mode == 'hit_k_200':\n",
    "    test_instance_triple = np.load(export_path + 'test_entity_pair.npy')\n",
    "    test_instance_scope = np.load(export_path + 'test_entity_scope.npy')\n",
    "    test_len = np.load(export_path + 'test_len.npy')\n",
    "    test_label = np.load(export_path + 'test_label.npy')\n",
    "    test_word = np.load(export_path + 'test_word.npy')\n",
    "    test_pos1 = np.load(export_path + 'test_pos1.npy')\n",
    "    test_pos2 = np.load(export_path + 'test_pos2.npy')\n",
    "    test_mask = np.load(export_path + 'test_mask.npy')\n",
    "    exclude_na_flatten_label = np.load(export_path + 'all_true_label.npy')\n",
    "    \n",
    "    test_instance_scope_Tensor = torch.LongTensor(test_instance_scope).to(DEVICE)\n",
    "    test_len_Tensor = torch.LongTensor(test_len).to(DEVICE)\n",
    "    test_label_Tensor = torch.LongTensor(test_label).to(DEVICE)\n",
    "    test_word_Tensor = torch.LongTensor(test_word).to(DEVICE)\n",
    "    test_pos1_Tensor = torch.LongTensor(test_pos1).to(DEVICE)\n",
    "    test_pos2_Tensor = torch.LongTensor(test_pos2).to(DEVICE)\n",
    "    test_mask_Tensor = torch.LongTensor(test_mask).to(DEVICE)\n",
    "    exclude_na_flatten_label_Tensor = torch.LongTensor(exclude_na_flatten_label).to(DEVICE)\n",
    "else:\n",
    "    test_instance_triple = np.load(export_path + 'pn/test_entity_pair_pn.npy')\n",
    "    test_instance_scope = np.load(export_path + 'pn/test_entity_scope_'+mode+'.npy')\n",
    "    test_len = np.load(export_path + 'pn/test_len_'+mode+'.npy')\n",
    "    test_label = np.load(export_path + 'pn/test_label_'+mode+'.npy')\n",
    "    test_word = np.load(export_path + 'pn/test_word_'+mode+'.npy')\n",
    "    test_pos1 = np.load(export_path + 'pn/test_pos1_'+mode+'.npy')\n",
    "    test_pos2 = np.load(export_path + 'pn/test_pos2_'+mode+'.npy')\n",
    "    test_mask = np.load(export_path + 'pn/test_mask_'+mode+'.npy')\n",
    "    exclude_na_flatten_label = np.load(export_path + 'pn/true_label.npy')\n",
    "    \n",
    "    test_instance_scope_Tensor = torch.LongTensor(test_instance_scope).to(DEVICE)\n",
    "    test_len_Tensor = torch.LongTensor(test_len).to(DEVICE)\n",
    "    test_label_Tensor = torch.LongTensor(test_label).to(DEVICE)\n",
    "    test_word_Tensor = torch.LongTensor(test_word).to(DEVICE)\n",
    "    test_pos1_Tensor = torch.LongTensor(test_pos1).to(DEVICE)\n",
    "    test_pos2_Tensor = torch.LongTensor(test_pos2).to(DEVICE)\n",
    "    test_mask_Tensor = torch.LongTensor(test_mask).to(DEVICE)\n",
    "    exclude_na_flatten_label_Tensor = torch.LongTensor(exclude_na_flatten_label).to(DEVICE)"
   ]
  },
  {
   "cell_type": "code",
   "execution_count": 58,
   "metadata": {
    "collapsed": false,
    "jupyter": {
     "outputs_hidden": false
    },
    "pycharm": {
     "is_executing": true,
     "name": "#%%\n"
    }
   },
   "outputs": [
    {
     "data": {
      "text/plain": [
       "array([[0., 0., 0., ..., 0., 0., 0.],\n",
       "       [0., 0., 0., ..., 0., 0., 0.],\n",
       "       [0., 0., 0., ..., 0., 0., 0.],\n",
       "       ...,\n",
       "       [0., 0., 0., ..., 0., 0., 0.],\n",
       "       [0., 0., 0., ..., 0., 0., 0.],\n",
       "       [0., 0., 0., ..., 0., 0., 0.]])"
      ]
     },
     "execution_count": 58,
     "metadata": {},
     "output_type": "execute_result"
    }
   ],
   "source": [
    "exclude_na_label = np.reshape(exclude_na_flatten_label, [-1, args_test.num_classes-1]) #在这里我们要排除NA标签, 实际上这个文件 all_true_label 就是非出去了第一列NA关系的文件\n",
    "index_non_zero = np.sum(exclude_na_label, 0) > 0  #如果这个标签>0 ，那么就代表这一行不是NA\n",
    "exclude_na_label"
   ]
  },
  {
   "cell_type": "code",
   "execution_count": 59,
   "metadata": {},
   "outputs": [
    {
     "data": {
      "text/plain": [
       "tensor([1, 0, 0, 0, 1, 1, 1, 1, 1, 0, 0, 1, 1, 0, 1, 0, 1, 1, 0, 1, 0, 1, 1, 1,\n",
       "        0, 0, 1, 1, 1, 0, 1, 0, 1, 1, 1, 1, 1, 0, 0, 0, 0, 1, 1, 0, 0, 0, 1, 1,\n",
       "        1, 1, 1, 0], device='cuda:0')"
      ]
     },
     "execution_count": 59,
     "metadata": {},
     "output_type": "execute_result"
    }
   ],
   "source": [
    "exclude_na_label_Tensor = torch.reshape(exclude_na_flatten_label_Tensor, [-1, args_test.num_classes-1]) #在这里我们要排除NA标签, 实际上这个文件 all_true_label 就是非出去了第一列NA关系的文件\n",
    "index_non_zero_Tensor = torch.LongTensor(index_non_zero).to(DEVICE) #如果这个标签>0 ，那么就代表这一行不是NA\n",
    "index_non_zero_Tensor"
   ]
  },
  {
   "cell_type": "code",
   "execution_count": 50,
   "metadata": {
    "collapsed": false,
    "jupyter": {
     "outputs_hidden": false
    },
    "pycharm": {
     "is_executing": true,
     "name": "#%%\n"
    }
   },
   "outputs": [
    {
     "name": "stdout",
     "output_type": "stream",
     "text": [
      "reading test data finished\n",
      "entity pairs     : 96678\n",
      "sentences        : 172448\n",
      "relations        : 53\n",
      "word size        : 50\n",
      "position size    : 5\n",
      "hidden size      : 230\n"
     ]
    }
   ],
   "source": [
    "print('reading test data finished')\n",
    "print('entity pairs     : %d' % (len(test_instance_triple)))\n",
    "print('sentences        : %d' % (len(test_len)))\n",
    "print('relations        : %d' % (args_test.num_classes))\n",
    "print('word size        : %d' % (args_test.word_size))\n",
    "print('position size    : %d' % (args_test.pos_size))\n",
    "print('hidden size      : %d' % (args_test.hidden_size))"
   ]
  },
  {
   "cell_type": "markdown",
   "metadata": {},
   "source": [
    "### 4.2 Evaluation"
   ]
  },
  {
   "cell_type": "code",
   "execution_count": 60,
   "metadata": {
    "collapsed": false,
    "jupyter": {
     "outputs_hidden": false
    },
    "pycharm": {
     "is_executing": true,
     "name": "#%%\n"
    }
   },
   "outputs": [],
   "source": [
    "start_ckpt = args_test.test_start_ckpt #first epoch to test\n",
    "start_step = args_test.test_start_step #first step to test\n",
    "if args.test_single: # only test one checkpoint\n",
    "    end_ckpt = args_test.test_start_ckpt\n",
    "    end_step = args_test.test_start_step\n",
    "else:\n",
    "    end_ckpt = args_test.test_end_ckpt # last epoch to test\n",
    "    end_step = argargs_tests.test_end_step # last step to test\n",
    "\n",
    "if args.test_use_step == False: # test step instead of epoch\n",
    "    iteration_list = range(start_ckpt, end_ckpt+1)\n",
    "else:\n",
    "    iteration_list = range(start_step, end_step+1, args_test.test_step)"
   ]
  },
  {
   "cell_type": "code",
   "execution_count": 62,
   "metadata": {},
   "outputs": [
    {
     "name": "stdout",
     "output_type": "stream",
     "text": [
      "building finished...\n"
     ]
    },
    {
     "name": "stderr",
     "output_type": "stream",
     "text": [
      "<ipython-input-27-e14f31155eab>:31: UserWarning: nn.init.xavier_uniform is now deprecated in favor of nn.init.xavier_uniform_.\n",
      "  self.relation_matrixs.append(nn.Embedding(self.layer[i], self.hidden_size, _weight = nn.init.xavier_uniform(torch.Tensor(self.layer[i], self.hidden_size))).to(DEVICE))\n",
      "<ipython-input-27-e14f31155eab>:32: UserWarning: nn.init.xavier_uniform is now deprecated in favor of nn.init.xavier_uniform_.\n",
      "  nn.init.xavier_uniform(self.discrimitive_matrix)\n"
     ]
    }
   ],
   "source": [
    "if args_test.use_baseline:\n",
    "    model = HAttentionNetwork(sentence_encoder, relation_levels_Tensor, relation_level_layer,  0.8, 230, args.batch_size, test_batch_size= args_test.batch_size).to(DEVICE)\n",
    "else:\n",
    "    model = HAttentionNetwork(sentence_encoder, relation_levels_Tensor, relation_level_layer,  0.8, 230, args.batch_size, test_batch_size= args_test.batch_size).to(DEVICE)\n",
    "    \n",
    "print('building finished...')"
   ]
  },
  {
   "cell_type": "markdown",
   "metadata": {},
   "source": [
    "### 5.2 评价主要过程（需要重写)"
   ]
  },
  {
   "cell_type": "code",
   "execution_count": 63,
   "metadata": {},
   "outputs": [],
   "source": [
    "mode = \"pr\""
   ]
  },
  {
   "cell_type": "code",
   "execution_count": 64,
   "metadata": {},
   "outputs": [
    {
     "ename": "NameError",
     "evalue": "name 'iters' is not defined",
     "output_type": "error",
     "traceback": [
      "\u001B[1;31m---------------------------------------------------------------------------\u001B[0m",
      "\u001B[1;31mNameError\u001B[0m                                 Traceback (most recent call last)",
      "\u001B[1;32m<ipython-input-64-0d735cf08061>\u001B[0m in \u001B[0;36m<module>\u001B[1;34m\u001B[0m\n\u001B[1;32m----> 1\u001B[1;33m \u001B[0mmodel\u001B[0m\u001B[1;33m.\u001B[0m\u001B[0mload_state_dict\u001B[0m\u001B[1;33m(\u001B[0m\u001B[0mtorch\u001B[0m\u001B[1;33m.\u001B[0m\u001B[0mload\u001B[0m\u001B[1;33m(\u001B[0m\u001B[0margs_test\u001B[0m\u001B[1;33m.\u001B[0m\u001B[0mcheckpoint_path\u001B[0m \u001B[1;33m+\u001B[0m \u001B[0margs_test\u001B[0m\u001B[1;33m.\u001B[0m\u001B[0mmodel\u001B[0m\u001B[1;33m+\u001B[0m\u001B[1;34m\"_params-iter-\"\u001B[0m\u001B[1;33m+\u001B[0m\u001B[0mstr\u001B[0m\u001B[1;33m(\u001B[0m\u001B[0margs_test\u001B[0m\u001B[1;33m.\u001B[0m\u001B[0msave_epoch\u001B[0m\u001B[1;33m*\u001B[0m\u001B[1;36m1832\u001B[0m\u001B[1;33m*\u001B[0m\u001B[0miters\u001B[0m\u001B[1;33m)\u001B[0m\u001B[1;33m+\u001B[0m\u001B[1;34m'.pkl'\u001B[0m\u001B[1;33m)\u001B[0m\u001B[1;33m)\u001B[0m\u001B[1;33m\u001B[0m\u001B[1;33m\u001B[0m\u001B[0m\n\u001B[0m",
      "\u001B[1;31mNameError\u001B[0m: name 'iters' is not defined"
     ]
    }
   ],
   "source": [
    "model.load_state_dict(torch.load(args_test.checkpoint_path + args_test.model+\"_params-iter-\"+str(args_test.save_epoch*1832*iters)+'.pkl'))"
   ]
  },
  {
   "cell_type": "code",
   "execution_count": 319,
   "metadata": {
    "collapsed": false,
    "jupyter": {
     "outputs_hidden": false
    },
    "pycharm": {
     "is_executing": true,
     "name": "#%%\n"
    }
   },
   "outputs": [
    {
     "name": "stdout",
     "output_type": "stream",
     "text": [
      "running 1/369 for epoch 40...  \r"
     ]
    },
    {
     "name": "stderr",
     "output_type": "stream",
     "text": [
      "<ipython-input-249-4b0cdd8ea961>:76: UserWarning: Implicit dimension choice for softmax has been deprecated. Change the call to include dim=X as an argument.\n",
      "  current_score = torch.cat([F.softmax(current_logit[:, data['scope'][j]:data['scope'][j + 1]]) for j in range(self.test_batch_size)], 1)\n",
      "<ipython-input-249-4b0cdd8ea961>:94: UserWarning: Implicit dimension choice for softmax has been deprecated. Change the call to include dim=X as an argument.\n",
      "  test_output = torch.diagonal(F.softmax(test_logits))\n"
     ]
    },
    {
     "name": "stdout",
     "output_type": "stream",
     "text": [
      "0.2682507572531968 0.09754817803075651\n"
     ]
    }
   ],
   "source": [
    "for iters in range(start_ckpt, end_ckpt+1):\n",
    "\n",
    "    if args_test.test_use_step == False:\n",
    "        pter('waiting for epoch' + str(args_test.save_epoch*iters)+'...')\n",
    "        while args_test.model+\"_params-iter-\"+str(args_test.save_epoch*1832*iters)+'.pkl' not in os.listdir(args_test.checkpoint_path):\n",
    "            time.sleep(args_test.test_sleep)\n",
    "            model.load_state_dict(torch.load(args_test.checkpoint_path+  args_test.model+\"_params-iter-\"+str(args_test.save_epoch*1832*iters)+'.pkl'))\n",
    "    else:\n",
    "        pter('waiting for step' + str(iters)+'...')\n",
    "        while args_test.model+\"-\"+str(iters)+'.index' not in os.listdir(args_test.checkpoint_path):\n",
    "            time.sleep(args_test.test_sleep)\n",
    "            model.load_state_dict(torch.load(args_test.checkpoint_path+args_test.model+\"_params-iter-\"+str(iters)+'.pkl'))\n",
    "    model.eval()\n",
    "    with torch.no_grad():\n",
    "        \n",
    "        stack_output = []  # stack_out 干什么的\n",
    "\n",
    "        iteration = len(test_instance_scope) // args_test.batch_size\n",
    "        for i in range(iteration): #循环迭代次数\n",
    "            if args_test.test_use_step == False:\n",
    "                pter('running '+str(i)+'/'+str(iteration)+' for epoch ' + str(args_test.save_epoch*iters) + '...')\n",
    "            else:\n",
    "                pter('running '+str(i)+'/'+str(iteration)+' for step ' + str(iters) + '...')\n",
    "            input_scope = test_instance_scope[i * args_test.batch_size:(i+1)*args_test.batch_size]\n",
    "            index = []\n",
    "            scope = [0]\n",
    "            label = []\n",
    "            for num in input_scope:\n",
    "                index = index + list(range(num[0], num[1] + 1))\n",
    "                label.append(test_label[num[0]])\n",
    "                scope.append(scope[len(scope)-1] + num[1] - num[0] + 1)\n",
    "            label_ = np.zeros((args_test.batch_size, args_test.num_classes))\n",
    "            label_[np.arange(args_test.batch_size), label] = 1\n",
    "\n",
    "            feed_dict = {\n",
    "                'word': test_word_Tensor[index, :],\n",
    "                'pos1': test_pos1_Tensor[index, :],\n",
    "                'pos2': test_pos2_Tensor[index, :],\n",
    "                'mask': test_mask_Tensor[index, :],\n",
    "                'len': test_len_Tensor[index],\n",
    "                'label_': label_,  # 可以不用\n",
    "                'scope': scope\n",
    "            }\n",
    "\n",
    "\n",
    "            output = model.forward_infer(feed_dict).cpu().numpy()\n",
    "\n",
    "            stack_output.append(output) # 将输出，拼接到输出stack里边\n",
    "\n",
    "        if args_test.test_use_step == False: \n",
    "            pter('evaluating epoch ' + str(args_test.save_epoch*iters) + '...')\n",
    "        else:\n",
    "            pter('evaluating step ' + str(iters) + '...')\n",
    "\n",
    "        stack_output = np.concatenate(stack_output, axis=0) # 拼接输出\n",
    "        exclude_na_output = stack_output[:,1:]  # 拼接从排除NA列的输出\n",
    "        exclude_na_flatten_output = np.reshape(stack_output[:,1:],(-1))  #重置stack_output的维度\n",
    "\n",
    "        if mode == 'hit_k_100' or mode == 'hit_k_200':\n",
    "            ss = 0\n",
    "            ss10 = 0\n",
    "            ss15 = 0\n",
    "            ss20 = 0\n",
    "\n",
    "            ss_rel = {}\n",
    "            ss10_rel = {}\n",
    "            ss15_rel = {}\n",
    "            ss20_rel = {}\n",
    "\n",
    "            for j, label in zip(exclude_na_output, exclude_na_label):\n",
    "                score = None\n",
    "                num = None\n",
    "                for ind, ll in enumerate(label):\n",
    "                    if ll > 0:\n",
    "                        score = j[ind]\n",
    "                        num = ind\n",
    "                        break\n",
    "                if num is None:\n",
    "                    continue\n",
    "                if id2rel[num+1] in fewrel:\n",
    "                    ss += 1.0\n",
    "                    mx = 0\n",
    "                    for sc in j:\n",
    "                        if sc > score:\n",
    "                            mx = mx + 1\n",
    "                    if not num in ss_rel:\n",
    "                        ss_rel[num] = 0\n",
    "                        ss10_rel[num] = 0\n",
    "                        ss15_rel[num] = 0\n",
    "                        ss20_rel[num] = 0\n",
    "                    ss_rel[num] += 1.0\n",
    "                    if mx < 10:\n",
    "                        ss10+=1.0\n",
    "                        ss10_rel[num] += 1.0\n",
    "                    if mx < 15:\n",
    "                        ss15+=1.0\n",
    "                        ss15_rel[num] += 1.0\n",
    "                    if mx < 20:\n",
    "                        ss20+=1.0\n",
    "                        ss20_rel[num] += 1.0\n",
    "            print (\"mi\")\n",
    "            print (ss10/ss)\n",
    "            print (ss15/ss)\n",
    "            print (ss20/ss)\n",
    "            print (\"ma\")\n",
    "            print ((np.array([ss10_rel[i]/ss_rel[i]  for i in ss_rel])).mean())\n",
    "            print ((np.array([ss15_rel[i]/ss_rel[i]  for i in ss_rel])).mean())\n",
    "            print ((np.array([ss20_rel[i]/ss_rel[i]  for i in ss_rel])).mean())\n",
    "\n",
    "        elif mode == 'pr':\n",
    "            m = average_precision_score(exclude_na_flatten_label, exclude_na_flatten_output)\n",
    "            M = average_precision_score(exclude_na_label[:,index_non_zero], exclude_na_output[:,index_non_zero], average='macro')\n",
    "            np.save(args_test.logits_path+\"WATT\"+str(iters), exclude_na_flatten_output)\n",
    "            print(m, M)\n",
    "        else:\n",
    "            order = np.argsort(-exclude_na_flatten_output)            \n",
    "            print(np.mean(exclude_na_flatten_label[order[:100]]))\n",
    "            print(np.mean(exclude_na_flatten_label[order[:200]]))\n",
    "            print(np.mean(exclude_na_flatten_label[order[:300]]))"
   ]
  },
  {
   "cell_type": "code",
   "execution_count": 320,
   "metadata": {},
   "outputs": [
    {
     "data": {
      "text/plain": [
       "'./outputs/logits/'"
      ]
     },
     "execution_count": 320,
     "metadata": {},
     "output_type": "execute_result"
    }
   ],
   "source": [
    "args_test.logits_path"
   ]
  },
  {
   "cell_type": "code",
   "execution_count": 321,
   "metadata": {},
   "outputs": [
    {
     "data": {
      "text/plain": [
       "1"
      ]
     },
     "execution_count": 321,
     "metadata": {},
     "output_type": "execute_result"
    }
   ],
   "source": [
    "iters"
   ]
  },
  {
   "cell_type": "markdown",
   "metadata": {},
   "source": [
    "## 6. 绘制图形"
   ]
  },
  {
   "cell_type": "markdown",
   "metadata": {},
   "source": [
    "### 6.1 绘制P-R图"
   ]
  },
  {
   "cell_type": "markdown",
   "metadata": {},
   "source": [
    "#### HNRE-CNN图"
   ]
  },
  {
   "cell_type": "code",
   "execution_count": 322,
   "metadata": {
    "collapsed": false,
    "jupyter": {
     "outputs_hidden": false
    },
    "pycharm": {
     "is_executing": true,
     "name": "#%%\n"
    }
   },
   "outputs": [
    {
     "name": "stdout",
     "output_type": "stream",
     "text": [
      "AUC: 0.2683\n"
     ]
    },
    {
     "data": {
      "image/png": "[encoded data removed]",
      "text/plain": [
       "<Figure size 864x576 with 1 Axes>"
      ]
     },
     "metadata": {
      "needs_background": "light"
     },
     "output_type": "display_data"
    }
   ],
   "source": [
    "\n",
    "label = './data/all_true_label.npy'\n",
    "# score = sys.argv[1]\n",
    "score = args_test.logits_path+\"WATT1.npy\" # \n",
    "y_true = np.load(label)\n",
    "y_scores = np.load(score)\n",
    "\n",
    "\n",
    "auc = average_precision_score(y_true, y_scores)\n",
    "print('AUC: {0:1.4f}'.format(auc))\n",
    "\n",
    "precision,recall,threshold = precision_recall_curve(y_true,y_scores)\n",
    "\n",
    "plt.plot(recall[:], precision[:], lw=2, label=\"CNN+HATT\")\n",
    "plt.xlabel('Recall')\n",
    "plt.ylabel('Precision')\n",
    "plt.ylim([0.3, 1.0])\n",
    "plt.xlim([0.0, 0.4])\n",
    "plt.title('Precision-Recall Area={0:1.4f}'.format(auc))\n",
    "plt.legend(loc=\"upper right\")\n",
    "plt.grid(True)\n",
    "plt.show()\n"
   ]
  },
  {
   "cell_type": "code",
   "execution_count": 6,
   "metadata": {
    "collapsed": false,
    "jupyter": {
     "outputs_hidden": false
    },
    "pycharm": {
     "is_executing": true,
     "name": "#%%\n"
    }
   },
   "outputs": [
    {
     "name": "stderr",
     "output_type": "stream",
     "text": [
      "<ipython-input-6-06c843c6b72d>:97: UserWarning: Creating legend with loc=\"best\" can be slow with large amounts of data.\n",
      "  savefig('fig.eps', format='eps',dpi=2000, bbox_inches='tight')\n",
      "The PostScript backend does not support transparency; partially transparent artists will be rendered opaque.\n",
      "The PostScript backend does not support transparency; partially transparent artists will be rendered opaque.\n",
      "C:\\Users\\Johan\\anaconda3\\lib\\site-packages\\IPython\\core\\pylabtools.py:132: UserWarning: Creating legend with loc=\"best\" can be slow with large amounts of data.\n",
      "  fig.canvas.print_figure(bytes_io, **kw)\n"
     ]
    },
    {
     "data": {
      "image/png": "[encoded data removed]",
      "text/plain": [
       "<Figure size 432x288 with 1 Axes>"
      ]
     },
     "metadata": {
      "needs_background": "light"
     },
     "output_type": "display_data"
    }
   ],
   "source": [
    "hh = open(\"./plot/Hoffmann.txt\", \"r\")\n",
    "mi = open(\"./plot/Mintz.txt\", \"r\")\n",
    "ml = open(\"./plot/MIMLRE.txt\", \"r\")\n",
    "g = open(\"./plot/lykATT.txt\", \"r\")\n",
    "h = open(\"./plot/lykONE.txt\", \"r\")\n",
    "o = open(\"./plot/att+soft-label.txt\", \"r\")\n",
    "tt = open(\"./plot/one+soft-label.txt\", \"r\")\n",
    "\n",
    "xx = []\n",
    "yy = []\n",
    "x1 = []\n",
    "y1 = []\n",
    "x2 = []\n",
    "y2 = []\n",
    "x3 = []\n",
    "y3 = []\n",
    "\n",
    "x4, y4 = [], []\n",
    "x5, y5 = [], []\n",
    "x6, y6 = [], []\n",
    "for line in hh:\n",
    "    line = line.strip()\n",
    "    it = line.split()\n",
    "    x4.append(float(it[0]))\n",
    "    y4.append(float(it[1]))\n",
    "for line in mi:\n",
    "    line = line.strip()\n",
    "    it = line.split()\n",
    "    x5.append(float(it[0]))\n",
    "    y5.append(float(it[1]))\n",
    "for line in ml:\n",
    "    line = line.strip()\n",
    "    it = line.split()\n",
    "    x6.append(float(it[0]))\n",
    "    y6.append(float(it[1]))\n",
    "\n",
    "\n",
    "for line in g:\n",
    "    line = line.strip()\n",
    "    it = line.split()\n",
    "    xx.append(float(it[0]))\n",
    "    yy.append(float(it[1]))\n",
    "\n",
    "for line in h:\n",
    "    line = line.strip()\n",
    "    it = line.split()\n",
    "    x1.append(float(it[0]))\n",
    "    y1.append(float(it[1]))\n",
    "\n",
    "for line in o:\n",
    "    line = line.strip()\n",
    "    it = line.split()\n",
    "    x2.append(float(it[0]))\n",
    "    y2.append(float(it[1]))\n",
    "\n",
    "for line in tt:\n",
    "    line = line.strip()\n",
    "    it = line.split()\n",
    "    x3.append(float(it[0]))\n",
    "    y3.append(float(it[1]))\n",
    "plt.ylim(0.3,1.0)\n",
    "plt.xlim(0,0.4)\n",
    "# plot(y, x, \"r\")\n",
    "# plt.show()\n",
    "\n",
    "plot(x5, y5, \"-g\", marker=\"o\", markevery=160,label=\"Mintz\")\n",
    "plot(x4, y4, \"-c\", marker=\"2\", markevery=160,label=\"MultiR\")\n",
    "plot(x6, y6, \"-k\", marker=\",\", markevery=160,label=\"MIMLRE\")\n",
    "plot(y1, x1, \"-b\", marker=\"d\", markevery=100,label=\"PCNN-ONE\")\n",
    "plot(yy, xx, \"y\", marker=\"*\", markevery=60, label=\"PCNN-ATT\")\n",
    "plot(y3, x3, \"m\", marker=\"x\", markevery=60,label=\"PCNN-ONE+soft-label\")\n",
    "plot(y2, x2, \"r\", marker=\"+\", markevery=60,label=\"PCNN-ATT+soft-label\")\n",
    "\n",
    "\n",
    "label = './data/all_true_label.npy'\n",
    "\n",
    "score = args_test.logits_path+\"cnn_hier10.npy\" # \n",
    "y_true = np.load(label)\n",
    "y_scores = np.load(score)\n",
    "auc = average_precision_score(y_true, y_scores)\n",
    "precision,recall,threshold = precision_recall_curve(y_true,y_scores)\n",
    "\n",
    "plt.plot(recall[:], precision[:], lw=2, label=\"CNN+HATT\")\n",
    "\n",
    "score = args_test.logits_path+\"pcnn_hier1.npy\" # \n",
    "y_true = np.load(label)\n",
    "y_scores = np.load(score)\n",
    "auc = average_precision_score(y_true, y_scores)\n",
    "precision,recall,threshold = precision_recall_curve(y_true,y_scores)\n",
    "\n",
    "plt.plot(recall[:], precision[:], lw=2, label=\"PCNN+HATT\")\n",
    "\n",
    "ylabel('Precision')\n",
    "xlabel('Recall')\n",
    "legend()\n",
    "grid()\n",
    "savefig('fig.eps', format='eps',dpi=2000, bbox_inches='tight')\n",
    "show()"
   ]
  },
  {
   "cell_type": "code",
   "execution_count": null,
   "metadata": {},
   "outputs": [],
   "source": []
  }
 ],
 "metadata": {
  "kernelspec": {
   "display_name": "Python 3",
   "language": "python",
   "name": "python3"
  },
  "language_info": {
   "codemirror_mode": {
    "name": "ipython",
    "version": 3
   },
   "file_extension": ".py",
   "mimetype": "text/x-python",
   "name": "python",
   "nbconvert_exporter": "python",
   "pygments_lexer": "ipython3",
   "version": "3.8.8"
  }
 },
 "nbformat": 4,
 "nbformat_minor": 4
}